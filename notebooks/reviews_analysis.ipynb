{
 "cells": [
  {
   "cell_type": "code",
   "execution_count": 36,
   "metadata": {},
   "outputs": [
    {
     "ename": "ImportError",
     "evalue": "cannot import name 'get_text_from_reviews' from 'utils' (/home/zishan-pc/Documents/pahelotape/nlp/notebooks/utils.py)",
     "output_type": "error",
     "traceback": [
      "\u001b[0;31m---------------------------------------------------------------------------\u001b[0m",
      "\u001b[0;31mImportError\u001b[0m                               Traceback (most recent call last)",
      "Cell \u001b[0;32mIn[36], line 1\u001b[0m\n\u001b[0;32m----> 1\u001b[0m \u001b[38;5;28;01mfrom\u001b[39;00m \u001b[38;5;21;01mutils\u001b[39;00m \u001b[38;5;28;01mimport\u001b[39;00m read_json_file, get_text_from_reviews\n",
      "\u001b[0;31mImportError\u001b[0m: cannot import name 'get_text_from_reviews' from 'utils' (/home/zishan-pc/Documents/pahelotape/nlp/notebooks/utils.py)"
     ]
    }
   ],
   "source": [
    "from utils import read_json_file, get_text_from_reviews"
   ]
  },
  {
   "cell_type": "code",
   "execution_count": 21,
   "metadata": {},
   "outputs": [
    {
     "name": "stdout",
     "output_type": "stream",
     "text": [
      "dict_keys(['data', 'meta'])\n"
     ]
    }
   ],
   "source": [
    "reviews=read_json_file('../data/reviews.json')\n",
    "print(reviews.keys())\n",
    "review_text=[]\n",
    "from typing import Dict, List\n",
    "\n"
   ]
  },
  {
   "cell_type": "code",
   "execution_count": 35,
   "metadata": {},
   "outputs": [
    {
     "data": {
      "text/plain": [
       "['I planned a solo trip to Dubai, at first i was little nervous about how my trip would be. But when i got in contact with NepalYatra especially (Rashmi Lama) they helped me through everything and made sure my trip would be perfect. From UAE Visa to flight booking , hotel staying and rest off all trip they helped me on everything. I did not had to worry about anything. They even checked on me about my trip about how it was and made me feel very great and happy. Thank you NepalYatra team and Rashmi Lama sister for making my Dubai trip so memorable.',\n",
       " 'Amazing experience with Nepal Yatra . During COVID-19 ,when all the tickets from US were  sold out as well as triple the price . They were genuine enough by  giving me best deal  for ticket at time emergency. Since then I have been a regular client and they have never disappointed me . Thank you Nepal Yatra for your service .',\n",
       " \"Well done guys, they did everything quickly. They work day and night. At 12 o'clock at night I was even invited because I could not pay online. I only had cash. And I urgently needed to buy a ticket. Thank you good luck and success to you.\",\n",
       " 'Its was a wonderful holiday. We called prashish and he arranged our custom plan trip to Phuket and krabi. We had a blast there . Very flexible, top notch service and very friendly. No one can beat his service. We are glad to find him on google.. he is a star and I recommend everyone to plan your trip with nepal yatra travel agency , they offer very affordable custom built packages , cheap flight ticket and good service..☘️',\n",
       " 'Highly recommend balti Indian restaurant located at Niagara Falls for its attentive service and delicious dishes like chicken tikka masala, butter naan, paneer pakora and mango lassi. It was a wonderful time with them I will re-visit them for sure.',\n",
       " 'Nepal yatra is one the finest and costumer friendly travel company. When I know about it, I just call them and do enquiry about my flight. They help me to get cheapest and good flight for usa. I loved their friendly behavior and their good gesture towards me. Over all if you are confused where to go for booking tickets \"NEPAL YATRA\" is best choice.',\n",
       " None,\n",
       " 'Fast and convenient flight service in minimum price 😊😊',\n",
       " 'Really great service , surely recommended!',\n",
       " None]"
      ]
     },
     "execution_count": 35,
     "metadata": {},
     "output_type": "execute_result"
    }
   ],
   "source": [
    "texts=[]\n",
    "texts+=[*get_text_from_reviews(reviews['data'][0][\"reviews\"])]\n",
    "texts\n"
   ]
  },
  {
   "cell_type": "code",
   "execution_count": 26,
   "metadata": {},
   "outputs": [
    {
     "data": {
      "text/plain": [
       "'I planned a solo trip to Dubai, at first i was little nervous about how my trip would be. But when i got in contact with NepalYatra especially (Rashmi Lama) they helped me through everything and made sure my trip would be perfect. From UAE Visa to flight booking , hotel staying and rest off all trip they helped me on everything. I did not had to worry about anything. They even checked on me about my trip about how it was and made me feel very great and happy. Thank you NepalYatra team and Rashmi Lama sister for making my Dubai trip so memorable.'"
      ]
     },
     "execution_count": 26,
     "metadata": {},
     "output_type": "execute_result"
    }
   ],
   "source": [
    "reviews['data'][0][\"reviews\"][\"rows\"][0][\"text\"]"
   ]
  },
  {
   "cell_type": "code",
   "execution_count": null,
   "metadata": {},
   "outputs": [],
   "source": []
  }
 ],
 "metadata": {
  "kernelspec": {
   "display_name": ".venv",
   "language": "python",
   "name": "python3"
  },
  "language_info": {
   "codemirror_mode": {
    "name": "ipython",
    "version": 3
   },
   "file_extension": ".py",
   "mimetype": "text/x-python",
   "name": "python",
   "nbconvert_exporter": "python",
   "pygments_lexer": "ipython3",
   "version": "3.8.9"
  }
 },
 "nbformat": 4,
 "nbformat_minor": 2
}
